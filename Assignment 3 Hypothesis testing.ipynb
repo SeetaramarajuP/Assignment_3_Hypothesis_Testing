{
  "cells": [
    {
      "metadata": {
        "ExecuteTime": {
          "end_time": "2023-05-20T10:13:32.082078Z",
          "start_time": "2023-05-20T10:12:59.986353Z"
        },
        "trusted": false
      },
      "id": "c7ff3a7d",
      "cell_type": "code",
      "source": "import pandas as pd \nfrom scipy import stats",
      "execution_count": 1,
      "outputs": []
    },
    {
      "metadata": {},
      "id": "97838b6a",
      "cell_type": "markdown",
      "source": "QUESTION 1"
    },
    {
      "metadata": {
        "ExecuteTime": {
          "end_time": "2023-05-20T10:13:39.423349Z",
          "start_time": "2023-05-20T10:13:38.845217Z"
        },
        "scrolled": true,
        "trusted": false
      },
      "id": "a59dd7ad",
      "cell_type": "code",
      "source": "cutlet=pd.read_csv('Cutlets.csv')                            \ncutlet",
      "execution_count": 2,
      "outputs": [
        {
          "data": {
            "text/html": "<div>\n<style scoped>\n    .dataframe tbody tr th:only-of-type {\n        vertical-align: middle;\n    }\n\n    .dataframe tbody tr th {\n        vertical-align: top;\n    }\n\n    .dataframe thead th {\n        text-align: right;\n    }\n</style>\n<table border=\"1\" class=\"dataframe\">\n  <thead>\n    <tr style=\"text-align: right;\">\n      <th></th>\n      <th>Unit A</th>\n      <th>Unit B</th>\n    </tr>\n  </thead>\n  <tbody>\n    <tr>\n      <th>0</th>\n      <td>6.8090</td>\n      <td>6.7703</td>\n    </tr>\n    <tr>\n      <th>1</th>\n      <td>6.4376</td>\n      <td>7.5093</td>\n    </tr>\n    <tr>\n      <th>2</th>\n      <td>6.9157</td>\n      <td>6.7300</td>\n    </tr>\n    <tr>\n      <th>3</th>\n      <td>7.3012</td>\n      <td>6.7878</td>\n    </tr>\n    <tr>\n      <th>4</th>\n      <td>7.4488</td>\n      <td>7.1522</td>\n    </tr>\n    <tr>\n      <th>5</th>\n      <td>7.3871</td>\n      <td>6.8110</td>\n    </tr>\n    <tr>\n      <th>6</th>\n      <td>6.8755</td>\n      <td>7.2212</td>\n    </tr>\n    <tr>\n      <th>7</th>\n      <td>7.0621</td>\n      <td>6.6606</td>\n    </tr>\n    <tr>\n      <th>8</th>\n      <td>6.6840</td>\n      <td>7.2402</td>\n    </tr>\n    <tr>\n      <th>9</th>\n      <td>6.8236</td>\n      <td>7.0503</td>\n    </tr>\n    <tr>\n      <th>10</th>\n      <td>7.3930</td>\n      <td>6.8810</td>\n    </tr>\n    <tr>\n      <th>11</th>\n      <td>7.5169</td>\n      <td>7.4059</td>\n    </tr>\n    <tr>\n      <th>12</th>\n      <td>6.9246</td>\n      <td>6.7652</td>\n    </tr>\n    <tr>\n      <th>13</th>\n      <td>6.9256</td>\n      <td>6.0380</td>\n    </tr>\n    <tr>\n      <th>14</th>\n      <td>6.5797</td>\n      <td>7.1581</td>\n    </tr>\n    <tr>\n      <th>15</th>\n      <td>6.8394</td>\n      <td>7.0240</td>\n    </tr>\n    <tr>\n      <th>16</th>\n      <td>6.5970</td>\n      <td>6.6672</td>\n    </tr>\n    <tr>\n      <th>17</th>\n      <td>7.2705</td>\n      <td>7.4314</td>\n    </tr>\n    <tr>\n      <th>18</th>\n      <td>7.2828</td>\n      <td>7.3070</td>\n    </tr>\n    <tr>\n      <th>19</th>\n      <td>7.3495</td>\n      <td>6.7478</td>\n    </tr>\n    <tr>\n      <th>20</th>\n      <td>6.9438</td>\n      <td>6.8889</td>\n    </tr>\n    <tr>\n      <th>21</th>\n      <td>7.1560</td>\n      <td>7.4220</td>\n    </tr>\n    <tr>\n      <th>22</th>\n      <td>6.5341</td>\n      <td>6.5217</td>\n    </tr>\n    <tr>\n      <th>23</th>\n      <td>7.2854</td>\n      <td>7.1688</td>\n    </tr>\n    <tr>\n      <th>24</th>\n      <td>6.9952</td>\n      <td>6.7594</td>\n    </tr>\n    <tr>\n      <th>25</th>\n      <td>6.8568</td>\n      <td>6.9399</td>\n    </tr>\n    <tr>\n      <th>26</th>\n      <td>7.2163</td>\n      <td>7.0133</td>\n    </tr>\n    <tr>\n      <th>27</th>\n      <td>6.6801</td>\n      <td>6.9182</td>\n    </tr>\n    <tr>\n      <th>28</th>\n      <td>6.9431</td>\n      <td>6.3346</td>\n    </tr>\n    <tr>\n      <th>29</th>\n      <td>7.0852</td>\n      <td>7.5459</td>\n    </tr>\n    <tr>\n      <th>30</th>\n      <td>6.7794</td>\n      <td>7.0992</td>\n    </tr>\n    <tr>\n      <th>31</th>\n      <td>7.2783</td>\n      <td>7.1180</td>\n    </tr>\n    <tr>\n      <th>32</th>\n      <td>7.1561</td>\n      <td>6.6965</td>\n    </tr>\n    <tr>\n      <th>33</th>\n      <td>7.3943</td>\n      <td>6.5780</td>\n    </tr>\n    <tr>\n      <th>34</th>\n      <td>6.9405</td>\n      <td>7.3875</td>\n    </tr>\n  </tbody>\n</table>\n</div>",
            "text/plain": "    Unit A  Unit B\n0   6.8090  6.7703\n1   6.4376  7.5093\n2   6.9157  6.7300\n3   7.3012  6.7878\n4   7.4488  7.1522\n5   7.3871  6.8110\n6   6.8755  7.2212\n7   7.0621  6.6606\n8   6.6840  7.2402\n9   6.8236  7.0503\n10  7.3930  6.8810\n11  7.5169  7.4059\n12  6.9246  6.7652\n13  6.9256  6.0380\n14  6.5797  7.1581\n15  6.8394  7.0240\n16  6.5970  6.6672\n17  7.2705  7.4314\n18  7.2828  7.3070\n19  7.3495  6.7478\n20  6.9438  6.8889\n21  7.1560  7.4220\n22  6.5341  6.5217\n23  7.2854  7.1688\n24  6.9952  6.7594\n25  6.8568  6.9399\n26  7.2163  7.0133\n27  6.6801  6.9182\n28  6.9431  6.3346\n29  7.0852  7.5459\n30  6.7794  7.0992\n31  7.2783  7.1180\n32  7.1561  6.6965\n33  7.3943  6.5780\n34  6.9405  7.3875"
          },
          "execution_count": 2,
          "metadata": {},
          "output_type": "execute_result"
        }
      ]
    },
    {
      "metadata": {
        "ExecuteTime": {
          "end_time": "2023-05-20T10:45:31.748857Z",
          "start_time": "2023-05-20T10:45:31.711420Z"
        },
        "trusted": false
      },
      "id": "be20d5b6",
      "cell_type": "code",
      "source": "unitA=pd.Series(cutlet['Unit A'])\nunitB=pd.Series(cutlet['Unit B'])\nstats.ttest_ind(unitA,unitB)",
      "execution_count": 15,
      "outputs": [
        {
          "data": {
            "text/plain": "Ttest_indResult(statistic=0.7228688704678063, pvalue=0.4722394724599501)"
          },
          "execution_count": 15,
          "metadata": {},
          "output_type": "execute_result"
        }
      ]
    },
    {
      "metadata": {},
      "id": "fc8b0422",
      "cell_type": "markdown",
      "source": "ANS:- Using Two Sample T Test\n      The P value is more than the significanc level (0.05) so accept  Null Hypothesis.\n      The Cutlet Diameter of both the units is the same."
    },
    {
      "metadata": {},
      "id": "b9abb722",
      "cell_type": "markdown",
      "source": "QUESTION 2"
    },
    {
      "metadata": {
        "ExecuteTime": {
          "end_time": "2023-05-20T10:13:57.442776Z",
          "start_time": "2023-05-20T10:13:57.366405Z"
        },
        "trusted": false
      },
      "id": "3ad7f1a6",
      "cell_type": "code",
      "source": "lab=pd.read_csv('LabTAT.csv')\nlab                                                                            ",
      "execution_count": 4,
      "outputs": [
        {
          "data": {
            "text/html": "<div>\n<style scoped>\n    .dataframe tbody tr th:only-of-type {\n        vertical-align: middle;\n    }\n\n    .dataframe tbody tr th {\n        vertical-align: top;\n    }\n\n    .dataframe thead th {\n        text-align: right;\n    }\n</style>\n<table border=\"1\" class=\"dataframe\">\n  <thead>\n    <tr style=\"text-align: right;\">\n      <th></th>\n      <th>Laboratory 1</th>\n      <th>Laboratory 2</th>\n      <th>Laboratory 3</th>\n      <th>Laboratory 4</th>\n    </tr>\n  </thead>\n  <tbody>\n    <tr>\n      <th>0</th>\n      <td>185.35</td>\n      <td>165.53</td>\n      <td>176.70</td>\n      <td>166.13</td>\n    </tr>\n    <tr>\n      <th>1</th>\n      <td>170.49</td>\n      <td>185.91</td>\n      <td>198.45</td>\n      <td>160.79</td>\n    </tr>\n    <tr>\n      <th>2</th>\n      <td>192.77</td>\n      <td>194.92</td>\n      <td>201.23</td>\n      <td>185.18</td>\n    </tr>\n    <tr>\n      <th>3</th>\n      <td>177.33</td>\n      <td>183.00</td>\n      <td>199.61</td>\n      <td>176.42</td>\n    </tr>\n    <tr>\n      <th>4</th>\n      <td>193.41</td>\n      <td>169.57</td>\n      <td>204.63</td>\n      <td>152.60</td>\n    </tr>\n    <tr>\n      <th>...</th>\n      <td>...</td>\n      <td>...</td>\n      <td>...</td>\n      <td>...</td>\n    </tr>\n    <tr>\n      <th>115</th>\n      <td>178.49</td>\n      <td>170.66</td>\n      <td>193.80</td>\n      <td>172.68</td>\n    </tr>\n    <tr>\n      <th>116</th>\n      <td>176.08</td>\n      <td>183.98</td>\n      <td>215.25</td>\n      <td>177.64</td>\n    </tr>\n    <tr>\n      <th>117</th>\n      <td>202.48</td>\n      <td>174.54</td>\n      <td>203.99</td>\n      <td>170.27</td>\n    </tr>\n    <tr>\n      <th>118</th>\n      <td>182.40</td>\n      <td>197.18</td>\n      <td>194.52</td>\n      <td>150.87</td>\n    </tr>\n    <tr>\n      <th>119</th>\n      <td>182.09</td>\n      <td>215.17</td>\n      <td>221.49</td>\n      <td>162.21</td>\n    </tr>\n  </tbody>\n</table>\n<p>120 rows × 4 columns</p>\n</div>",
            "text/plain": "     Laboratory 1  Laboratory 2  Laboratory 3  Laboratory 4\n0          185.35        165.53        176.70        166.13\n1          170.49        185.91        198.45        160.79\n2          192.77        194.92        201.23        185.18\n3          177.33        183.00        199.61        176.42\n4          193.41        169.57        204.63        152.60\n..            ...           ...           ...           ...\n115        178.49        170.66        193.80        172.68\n116        176.08        183.98        215.25        177.64\n117        202.48        174.54        203.99        170.27\n118        182.40        197.18        194.52        150.87\n119        182.09        215.17        221.49        162.21\n\n[120 rows x 4 columns]"
          },
          "execution_count": 4,
          "metadata": {},
          "output_type": "execute_result"
        }
      ]
    },
    {
      "metadata": {
        "ExecuteTime": {
          "end_time": "2023-05-20T10:15:16.879265Z",
          "start_time": "2023-05-20T10:15:16.792349Z"
        },
        "trusted": false
      },
      "id": "6e48cdf6",
      "cell_type": "code",
      "source": "stats.f_oneway(lab.iloc[:,0],lab.iloc[:,1],lab.iloc[:,2],lab.iloc[:,3])",
      "execution_count": 5,
      "outputs": [
        {
          "data": {
            "text/plain": "F_onewayResult(statistic=118.70421654401437, pvalue=2.1156708949992414e-57)"
          },
          "execution_count": 5,
          "metadata": {},
          "output_type": "execute_result"
        }
      ]
    },
    {
      "metadata": {},
      "id": "c6114275",
      "cell_type": "markdown",
      "source": "ANS:- Using One Way ANOVA Test\n      The P Value is less than the Significance Level (0.05) so accept Alternate Hypothesis.\n      The Mean TAT of atleast one lab is different from the rest of the labs. "
    },
    {
      "metadata": {},
      "id": "20fb493c",
      "cell_type": "markdown",
      "source": "QUESTION 3"
    },
    {
      "metadata": {
        "ExecuteTime": {
          "end_time": "2023-05-20T10:17:34.204974Z",
          "start_time": "2023-05-20T10:17:34.087458Z"
        },
        "trusted": false
      },
      "id": "146fec13",
      "cell_type": "code",
      "source": "BuyerRatio=pd.read_csv('BuyerRatio.csv')\nBuyerRatio",
      "execution_count": 6,
      "outputs": [
        {
          "data": {
            "text/html": "<div>\n<style scoped>\n    .dataframe tbody tr th:only-of-type {\n        vertical-align: middle;\n    }\n\n    .dataframe tbody tr th {\n        vertical-align: top;\n    }\n\n    .dataframe thead th {\n        text-align: right;\n    }\n</style>\n<table border=\"1\" class=\"dataframe\">\n  <thead>\n    <tr style=\"text-align: right;\">\n      <th></th>\n      <th>Observed Values</th>\n      <th>East</th>\n      <th>West</th>\n      <th>North</th>\n      <th>South</th>\n    </tr>\n  </thead>\n  <tbody>\n    <tr>\n      <th>0</th>\n      <td>Males</td>\n      <td>50</td>\n      <td>142</td>\n      <td>131</td>\n      <td>70</td>\n    </tr>\n    <tr>\n      <th>1</th>\n      <td>Females</td>\n      <td>435</td>\n      <td>1523</td>\n      <td>1356</td>\n      <td>750</td>\n    </tr>\n  </tbody>\n</table>\n</div>",
            "text/plain": "  Observed Values  East  West  North  South\n0           Males    50   142    131     70\n1         Females   435  1523   1356    750"
          },
          "execution_count": 6,
          "metadata": {},
          "output_type": "execute_result"
        }
      ]
    },
    {
      "metadata": {
        "ExecuteTime": {
          "end_time": "2023-05-20T10:34:58.431880Z",
          "start_time": "2023-05-20T10:34:58.408105Z"
        },
        "trusted": false
      },
      "id": "49a6021d",
      "cell_type": "code",
      "source": "Buyer_Ratio=BuyerRatio.iloc[:,1:5]\nBuyer_Ratio",
      "execution_count": 13,
      "outputs": [
        {
          "data": {
            "text/html": "<div>\n<style scoped>\n    .dataframe tbody tr th:only-of-type {\n        vertical-align: middle;\n    }\n\n    .dataframe tbody tr th {\n        vertical-align: top;\n    }\n\n    .dataframe thead th {\n        text-align: right;\n    }\n</style>\n<table border=\"1\" class=\"dataframe\">\n  <thead>\n    <tr style=\"text-align: right;\">\n      <th></th>\n      <th>East</th>\n      <th>West</th>\n      <th>North</th>\n      <th>South</th>\n    </tr>\n  </thead>\n  <tbody>\n    <tr>\n      <th>0</th>\n      <td>50</td>\n      <td>142</td>\n      <td>131</td>\n      <td>70</td>\n    </tr>\n    <tr>\n      <th>1</th>\n      <td>435</td>\n      <td>1523</td>\n      <td>1356</td>\n      <td>750</td>\n    </tr>\n  </tbody>\n</table>\n</div>",
            "text/plain": "   East  West  North  South\n0    50   142    131     70\n1   435  1523   1356    750"
          },
          "execution_count": 13,
          "metadata": {},
          "output_type": "execute_result"
        }
      ]
    },
    {
      "metadata": {
        "ExecuteTime": {
          "end_time": "2023-05-20T10:35:59.010424Z",
          "start_time": "2023-05-20T10:35:58.932880Z"
        },
        "trusted": false
      },
      "id": "80943589",
      "cell_type": "code",
      "source": "Chisquares_results=scipy.stats.chi2_contingency(Buyer_Ratio)\nChisquares_results",
      "execution_count": 14,
      "outputs": [
        {
          "data": {
            "text/plain": "(1.595945538661058,\n 0.6603094907091882,\n 3,\n array([[  42.76531299,  146.81287862,  131.11756787,   72.30424052],\n        [ 442.23468701, 1518.18712138, 1355.88243213,  747.69575948]]))"
          },
          "execution_count": 14,
          "metadata": {},
          "output_type": "execute_result"
        }
      ]
    },
    {
      "metadata": {
        "ExecuteTime": {
          "end_time": "2023-05-20T10:19:40.930064Z",
          "start_time": "2023-05-20T10:19:40.914063Z"
        }
      },
      "id": "679acfd1",
      "cell_type": "markdown",
      "source": "ANS:- By using Chi Square Test\n      The p value exceeds the significance level (assuming the confidence level to be 95%) so Accept Alternate Hypothesis.\n      Not all the Proportions are Equal."
    },
    {
      "metadata": {},
      "id": "c68d19bc",
      "cell_type": "markdown",
      "source": "QUESTION 4"
    },
    {
      "metadata": {
        "ExecuteTime": {
          "end_time": "2023-05-20T11:05:40.889367Z",
          "start_time": "2023-05-20T11:05:40.801366Z"
        },
        "trusted": false
      },
      "id": "ea2b0479",
      "cell_type": "code",
      "source": "CustomerForm=pd.read_csv('Costomer+OrderForm.csv')\nCustomerForm",
      "execution_count": 16,
      "outputs": [
        {
          "data": {
            "text/html": "<div>\n<style scoped>\n    .dataframe tbody tr th:only-of-type {\n        vertical-align: middle;\n    }\n\n    .dataframe tbody tr th {\n        vertical-align: top;\n    }\n\n    .dataframe thead th {\n        text-align: right;\n    }\n</style>\n<table border=\"1\" class=\"dataframe\">\n  <thead>\n    <tr style=\"text-align: right;\">\n      <th></th>\n      <th>Phillippines</th>\n      <th>Indonesia</th>\n      <th>Malta</th>\n      <th>India</th>\n    </tr>\n  </thead>\n  <tbody>\n    <tr>\n      <th>0</th>\n      <td>Error Free</td>\n      <td>Error Free</td>\n      <td>Defective</td>\n      <td>Error Free</td>\n    </tr>\n    <tr>\n      <th>1</th>\n      <td>Error Free</td>\n      <td>Error Free</td>\n      <td>Error Free</td>\n      <td>Defective</td>\n    </tr>\n    <tr>\n      <th>2</th>\n      <td>Error Free</td>\n      <td>Defective</td>\n      <td>Defective</td>\n      <td>Error Free</td>\n    </tr>\n    <tr>\n      <th>3</th>\n      <td>Error Free</td>\n      <td>Error Free</td>\n      <td>Error Free</td>\n      <td>Error Free</td>\n    </tr>\n    <tr>\n      <th>4</th>\n      <td>Error Free</td>\n      <td>Error Free</td>\n      <td>Defective</td>\n      <td>Error Free</td>\n    </tr>\n    <tr>\n      <th>...</th>\n      <td>...</td>\n      <td>...</td>\n      <td>...</td>\n      <td>...</td>\n    </tr>\n    <tr>\n      <th>295</th>\n      <td>Error Free</td>\n      <td>Error Free</td>\n      <td>Error Free</td>\n      <td>Error Free</td>\n    </tr>\n    <tr>\n      <th>296</th>\n      <td>Error Free</td>\n      <td>Error Free</td>\n      <td>Error Free</td>\n      <td>Error Free</td>\n    </tr>\n    <tr>\n      <th>297</th>\n      <td>Error Free</td>\n      <td>Error Free</td>\n      <td>Defective</td>\n      <td>Error Free</td>\n    </tr>\n    <tr>\n      <th>298</th>\n      <td>Error Free</td>\n      <td>Error Free</td>\n      <td>Error Free</td>\n      <td>Error Free</td>\n    </tr>\n    <tr>\n      <th>299</th>\n      <td>Error Free</td>\n      <td>Defective</td>\n      <td>Defective</td>\n      <td>Error Free</td>\n    </tr>\n  </tbody>\n</table>\n<p>300 rows × 4 columns</p>\n</div>",
            "text/plain": "    Phillippines   Indonesia       Malta       India\n0     Error Free  Error Free   Defective  Error Free\n1     Error Free  Error Free  Error Free   Defective\n2     Error Free   Defective   Defective  Error Free\n3     Error Free  Error Free  Error Free  Error Free\n4     Error Free  Error Free   Defective  Error Free\n..           ...         ...         ...         ...\n295   Error Free  Error Free  Error Free  Error Free\n296   Error Free  Error Free  Error Free  Error Free\n297   Error Free  Error Free   Defective  Error Free\n298   Error Free  Error Free  Error Free  Error Free\n299   Error Free   Defective   Defective  Error Free\n\n[300 rows x 4 columns]"
          },
          "execution_count": 16,
          "metadata": {},
          "output_type": "execute_result"
        }
      ]
    },
    {
      "metadata": {
        "ExecuteTime": {
          "end_time": "2023-05-20T11:27:55.363756Z",
          "start_time": "2023-05-20T11:27:55.337878Z"
        },
        "trusted": false
      },
      "id": "cc63fcb5",
      "cell_type": "code",
      "source": "print(CustomerForm['Phillippines'].value_counts(),\nCustomerForm['Indonesia'].value_counts(),\nCustomerForm['Malta'].value_counts(),\nCustomerForm['India'].value_counts())",
      "execution_count": 29,
      "outputs": [
        {
          "name": "stdout",
          "output_type": "stream",
          "text": "Error Free    271\nDefective      29\nName: Phillippines, dtype: int64 Error Free    267\nDefective      33\nName: Indonesia, dtype: int64 Error Free    269\nDefective      31\nName: Malta, dtype: int64 Error Free    280\nDefective      20\nName: India, dtype: int64\n"
        }
      ]
    },
    {
      "metadata": {
        "ExecuteTime": {
          "end_time": "2023-05-20T11:31:18.585353Z",
          "start_time": "2023-05-20T11:31:18.522154Z"
        },
        "trusted": false
      },
      "id": "ac39b299",
      "cell_type": "code",
      "source": "result=scipy.stats.chi2_contingency([[271,267,269,280],[29,33,31,20]])\nresult",
      "execution_count": 31,
      "outputs": [
        {
          "data": {
            "text/plain": "(3.858960685820355,\n 0.2771020991233135,\n 3,\n array([[271.75, 271.75, 271.75, 271.75],\n        [ 28.25,  28.25,  28.25,  28.25]]))"
          },
          "execution_count": 31,
          "metadata": {},
          "output_type": "execute_result"
        }
      ]
    },
    {
      "metadata": {},
      "id": "d469d583",
      "cell_type": "markdown",
      "source": "Ans:- By using the Chi Square Method.\n      The p value is more than the signivicance level (0.05) so Null Hypothesis is Accepted.\n      The Defective % doesnot varry by centre."
    }
  ],
  "metadata": {
    "kernelspec": {
      "name": "python3",
      "display_name": "Python 3 (ipykernel)",
      "language": "python"
    },
    "language_info": {
      "name": "python",
      "version": "3.9.12",
      "mimetype": "text/x-python",
      "codemirror_mode": {
        "name": "ipython",
        "version": 3
      },
      "pygments_lexer": "ipython3",
      "nbconvert_exporter": "python",
      "file_extension": ".py"
    },
    "gist": {
      "id": "",
      "data": {
        "description": "Assignment 3 Hypothesis testing.ipynb",
        "public": true
      }
    }
  },
  "nbformat": 4,
  "nbformat_minor": 5
}